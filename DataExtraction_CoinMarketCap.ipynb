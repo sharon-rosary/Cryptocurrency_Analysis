{
 "cells": [
  {
   "cell_type": "code",
   "execution_count": 11,
   "id": "91394df1",
   "metadata": {},
   "outputs": [
    {
     "name": "stdout",
     "output_type": "stream",
     "text": [
      "CSV write completed\n"
     ]
    }
   ],
   "source": [
    "# Exporting Cryptocurrency Info from CoinmarketCap to csv\n",
    "\n",
    "## Importing Libraries\n",
    "from requests import Request, Session\n",
    "from requests.exceptions import ConnectionError, Timeout, TooManyRedirects\n",
    "import json\n",
    "import csv\n",
    "import os\n",
    "\n",
    "## Setting Coinbase Endpoint and Parameter\n",
    "url = 'https://pro-api.coinmarketcap.com/v1/cryptocurrency/listings/latest'\n",
    "parameters = {\n",
    "  'start':'1',\n",
    "  'limit':'5000',\n",
    "  'convert':'USD'\n",
    "}\n",
    "headers = {\n",
    "  'Accepts': 'application/json',\n",
    "  'X-CMC_PRO_API_KEY': '1844530d-ca23-4fa9-b72d-43813b4881f2',\n",
    "}\n",
    "\n",
    "\n",
    "session = Session()\n",
    "session.headers.update(headers)\n",
    "csvPath = os.getcwd();\n",
    "try:\n",
    "  listResponse = session.get(url, params=parameters)\n",
    "\n",
    "  # Converting response to JSON\n",
    "  datastream = json.loads(listResponse.text)[\"data\"] \n",
    "\n",
    "  # Initializing header variable\n",
    "  headers = list(datastream[0].keys())\n",
    "  # Adding additional headers extracted from \"quotes\" column\n",
    "  headers = headers + list(datastream[0][\"quote\"][\"USD\"].keys())\n",
    "\n",
    "  # open the file in the write mode\n",
    "  f = open(csvPath+'/data.csv', 'w')\n",
    "\n",
    "  # create the csv writer\n",
    "  writer = csv.writer(f)\n",
    "\n",
    "  # Cryptocurrency Lists\n",
    "  ## writing header\n",
    "  writer.writerow(headers)\n",
    "\n",
    "  ## writing rows\n",
    "  for row in datastream:\n",
    "      # write a row to the csv file\n",
    "      newRow = list(row.values())\n",
    "      # adding values from \"quotes column\"\n",
    "      newRow = newRow + list(row[\"quote\"][\"USD\"].values())\n",
    "      writer.writerow(newRow)\n",
    "\n",
    "  # close the file\n",
    "  f.close()\n",
    "    \n",
    "  print(\"CSV write completed\")\n",
    "except (ConnectionError, Timeout, TooManyRedirects) as e:\n",
    "  print(e)\n"
   ]
  },
  {
   "cell_type": "code",
   "execution_count": null,
   "id": "fb4c14ec",
   "metadata": {},
   "outputs": [],
   "source": []
  },
  {
   "cell_type": "code",
   "execution_count": null,
   "id": "f1b7e7f6",
   "metadata": {},
   "outputs": [],
   "source": []
  }
 ],
 "metadata": {
  "kernelspec": {
   "display_name": "Python 3 (ipykernel)",
   "language": "python",
   "name": "python3"
  },
  "language_info": {
   "codemirror_mode": {
    "name": "ipython",
    "version": 3
   },
   "file_extension": ".py",
   "mimetype": "text/x-python",
   "name": "python",
   "nbconvert_exporter": "python",
   "pygments_lexer": "ipython3",
   "version": "3.9.7"
  }
 },
 "nbformat": 4,
 "nbformat_minor": 5
}
